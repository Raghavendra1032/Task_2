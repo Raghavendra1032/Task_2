{
  "nbformat": 4,
  "nbformat_minor": 0,
  "metadata": {
    "colab": {
      "provenance": [],
      "authorship_tag": "ABX9TyPyq0sdrfKmgCh07in1EeXk",
      "include_colab_link": true
    },
    "kernelspec": {
      "name": "python3",
      "display_name": "Python 3"
    },
    "language_info": {
      "name": "python"
    }
  },
  "cells": [
    {
      "cell_type": "markdown",
      "metadata": {
        "id": "view-in-github",
        "colab_type": "text"
      },
      "source": [
        "<a href=\"https://colab.research.google.com/github/Raghavendra1032/Task_2/blob/main/task2.ipynb\" target=\"_parent\"><img src=\"https://colab.research.google.com/assets/colab-badge.svg\" alt=\"Open In Colab\"/></a>"
      ]
    },
    {
      "cell_type": "code",
      "execution_count": 2,
      "metadata": {
        "colab": {
          "base_uri": "https://localhost:8080/"
        },
        "id": "UJmy_KDli0aS",
        "outputId": "e564f035-17de-479e-bc99-11d1d3b35c54"
      },
      "outputs": [
        {
          "output_type": "stream",
          "name": "stdout",
          "text": [
            "The sum of 5 and 10 is 15\n",
            "Hello, Alice!\n"
          ]
        }
      ],
      "source": [
        "# Hardcoded numeric values\n",
        "x = 5\n",
        "y = 10\n",
        "# Performing a simple calculation\n",
        "sum = x + y\n",
        "print(f\"The sum of {x} and {y} is {sum}\")\n",
        "# Hardcoded string values\n",
        "name = \"Alice\"\n",
        "greeting = \"Hello\"\n",
        "# Concatenating strings\n",
        "message = greeting + \", \" + name + \"!\"\n",
        "print(message)"
      ]
    },
    {
      "cell_type": "code",
      "source": [
        "# Taking user input\n",
        "name = input(\"Enter your name: \")\n",
        "\n",
        "# Outputting a greeting\n",
        "print(f\"Hello, {name}!\")\n"
      ],
      "metadata": {
        "colab": {
          "base_uri": "https://localhost:8080/"
        },
        "id": "Fqh7RSAAxoF6",
        "outputId": "fa3e8beb-204b-4a1a-a391-15d4f27a8c0f"
      },
      "execution_count": null,
      "outputs": [
        {
          "output_type": "stream",
          "name": "stdout",
          "text": [
            "Enter your name: raghu\n",
            "Hello, raghu!\n"
          ]
        }
      ]
    },
    {
      "cell_type": "code",
      "source": [
        "# Taking an integer input from the user\n",
        "age = int(input(\"Enter your age: \"))\n",
        "\n",
        "# Outputting the user's age after adding 5 years\n",
        "print(f\"In 5 years, you will be {age + 5} years old.\")\n"
      ],
      "metadata": {
        "colab": {
          "base_uri": "https://localhost:8080/"
        },
        "id": "cbQ2gtvDyyt0",
        "outputId": "ef7eb1d5-1302-450a-d0ee-e1b834807d0d"
      },
      "execution_count": null,
      "outputs": [
        {
          "output_type": "stream",
          "name": "stdout",
          "text": [
            "Enter your age: 32\n",
            "In 5 years, you will be 37 years old.\n"
          ]
        }
      ]
    },
    {
      "cell_type": "code",
      "source": [
        "# Read From File (Single Input):\n",
        "\n",
        "with open('single_input.txt', 'w') as file:\n",
        "    file.write(\"50\")  # Write a single number to the file\n",
        "    print(\"single_input.txt created!\")\n"
      ],
      "metadata": {
        "colab": {
          "base_uri": "https://localhost:8080/"
        },
        "id": "KkYAg2Pn3I8Q",
        "outputId": "2fc2e05e-b064-4d33-d229-6eaf2a2eb67a"
      },
      "execution_count": 7,
      "outputs": [
        {
          "output_type": "stream",
          "name": "stdout",
          "text": [
            "single_input.txt created!\n"
          ]
        }
      ]
    },
    {
      "cell_type": "code",
      "source": [
        "# Open the file and read multiple inputs\n",
        "with open('data.txt', 'r') as file:\n",
        "    # Read all lines and strip trailing whitespace\n",
        "    inputs = [line.strip() for line in file]\n",
        "\n",
        "# Convert the inputs to integers (if required)\n",
        "values = list(map(int, inputs))\n",
        "\n",
        "# Output the values\n",
        "print(\"Values read from the file:\", values)\n"
      ],
      "metadata": {
        "colab": {
          "base_uri": "https://localhost:8080/"
        },
        "id": "3LkqcBZOCHd0",
        "outputId": "5c386311-a331-4b5c-918d-6cbc259503b6"
      },
      "execution_count": 26,
      "outputs": [
        {
          "output_type": "stream",
          "name": "stdout",
          "text": [
            "Values read from the file: [10, 20, 30, 40, 50]\n"
          ]
        }
      ]
    },
    {
      "cell_type": "code",
      "source": [
        "# Version 1: Basic File Creation and Reading Single Input\n",
        "# Step 1: Create the 'single_input.txt' file with a single number\n",
        "with open('single_input.txt', 'w') as file:\n",
        "    file.write(\"25\")  # Write a single number to the file\n",
        "    print(\"single_input.txt created!\")\n",
        "\n",
        "# Step 2: Read the single number and add 10\n",
        "try:\n",
        "    with open('single_input.txt', 'r') as file:\n",
        "        num = int(file.read().strip())  # Read and strip whitespace\n",
        "        result = num + 10\n",
        "        print(f\"Number from file: {num}, After addition: {result}\")\n",
        "except FileNotFoundError:\n",
        "    print(\"File not found. Please create a file named 'single_input.txt'.\")\n",
        "except ValueError:\n",
        "    print(\"File content must be a valid integer.\")\n"
      ],
      "metadata": {
        "colab": {
          "base_uri": "https://localhost:8080/"
        },
        "id": "janFwHpr8oG9",
        "outputId": "b0c43d2e-78f5-4145-8601-07b438a81cae"
      },
      "execution_count": 18,
      "outputs": [
        {
          "output_type": "stream",
          "name": "stdout",
          "text": [
            "single_input.txt created!\n",
            "Number from file: 25, After addition: 35\n"
          ]
        }
      ]
    }
  ]
}